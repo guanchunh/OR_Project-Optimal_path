{
 "cells": [
  {
   "cell_type": "code",
   "execution_count": 1,
   "metadata": {},
   "outputs": [],
   "source": [
    "%matplotlib inline\n",
    "import numpy as np\n",
    "import matplotlib.pyplot as plt\n",
    "import pandas as pd\n",
    "import random\n",
    "import sys\n",
    "import copy\n",
    "import math"
   ]
  },
  {
   "cell_type": "code",
   "execution_count": 2,
   "metadata": {},
   "outputs": [],
   "source": [
    "addr = \"123@163.com\"\n",
    "usr,web = addr.split('@')"
   ]
  },
  {
   "cell_type": "code",
   "execution_count": 11,
   "metadata": {},
   "outputs": [],
   "source": [
    "final_city = [\"新北市\",\"桃園市\",\"臺中市\",\"臺南市\",\"高雄市\",\"新竹縣\",\"苗栗縣\",\"彰化縣\",\"南投縣\",\"宜蘭縣\"]"
   ]
  },
  {
   "cell_type": "code",
   "execution_count": 4,
   "metadata": {},
   "outputs": [
    {
     "data": {
      "text/plain": [
       "'163.com'"
      ]
     },
     "execution_count": 4,
     "metadata": {},
     "output_type": "execute_result"
    }
   ],
   "source": [
    "web"
   ]
  },
  {
   "cell_type": "code",
   "execution_count": 5,
   "metadata": {},
   "outputs": [
    {
     "data": {
      "text/plain": [
       "'123@163.com'"
      ]
     },
     "execution_count": 5,
     "metadata": {},
     "output_type": "execute_result"
    }
   ],
   "source": [
    "addr"
   ]
  },
  {
   "cell_type": "code",
   "execution_count": 6,
   "metadata": {},
   "outputs": [],
   "source": [
    "f = open(r'dis.txt')\n",
    "str = f.read()\n",
    "a = str.split( )\n",
    "array=np.array(a)\n",
    "city = 10\n",
    "data = array.reshape(city, city)\n",
    "time = array.reshape(city, city)\n",
    "dis = array.reshape(city, city)\n",
    "time_list = time.tolist()\n",
    "dis_list = dis.tolist()\n",
    "\n",
    "for i in range(city):\n",
    "    for j in range(city):\n",
    "        if data[i][j] == '0':\n",
    "            data[i][j] = '0/0'\n",
    "\n",
    "\n",
    "#for i in range(city):\n",
    "#        for j in range(city):\n",
    "#            str = str.split(\"/\");\n",
    "#distance = distance.astype(np.float64)\n",
    "#for i in range(city):\n",
    "#        for j in range(city):\n",
    "#            if distance[i][j] == 0:\n",
    "#                distance[i][j] = sys.maxsize"
   ]
  },
  {
   "cell_type": "code",
   "execution_count": 7,
   "metadata": {},
   "outputs": [],
   "source": [
    "for i in range(city):\n",
    "    for j in range(city):\n",
    "        addr = data[i][j]\n",
    "        time1,dis1 = addr.split('/')\n",
    "        dis_list[i][j] = float(dis1)\n",
    "        time_list[i][j] = float(time1)\n"
   ]
  },
  {
   "cell_type": "code",
   "execution_count": 8,
   "metadata": {},
   "outputs": [],
   "source": [
    "def cacl_best(route):\n",
    "    sumdis = 0.0\n",
    "    for i in range(city-1):\n",
    "        sumdis += dis_list[route[i]][route[i+1]]\n",
    "    sumdis += dis_list[route[city-1]][route[0]]     \n",
    "    return sumdis"
   ]
  },
  {
   "cell_type": "code",
   "execution_count": 9,
   "metadata": {},
   "outputs": [],
   "source": [
    "def getnewroute(route):\n",
    "    current = copy.copy(route)\n",
    "    u = random.randint(0, city-1)\n",
    "    v = random.randint(0, city-1)\n",
    "    temp = current[u]\n",
    "    current[u] = current[v]\n",
    "    current[v] = temp\n",
    "    return current"
   ]
  },
  {
   "cell_type": "code",
   "execution_count": 10,
   "metadata": {},
   "outputs": [
    {
     "name": "stdout",
     "output_type": "stream",
     "text": [
      "當初始溫度 = 300, 衰減係數 = 0.98 時:\n",
      "最佳路線： [3, 4, 7, 2, 6, 5, 1, 0, 9, 8]\n",
      "最佳距離： 881.0\n",
      "次數： 1194\n"
     ]
    },
    {
     "data": {
      "image/png": "[encoded data removed]",
      "text/plain": [
       "<Figure size 432x288 with 1 Axes>"
      ]
     },
     "metadata": {
      "needs_background": "light"
     },
     "output_type": "display_data"
    }
   ],
   "source": [
    "T0 = 300 #初始溫度\n",
    "Tend = 1e-8 #結束溫度\n",
    "L = 10 #循環控制常數\n",
    "a = 0.98 #溫度衰減係數\n",
    "num =[]\n",
    "x= []\n",
    "route = random.sample(range(0, city), city)\n",
    "total_dis = cacl_best(route)    \n",
    "newroute = []\n",
    "new_total_dis = 0.0\n",
    "best = route\n",
    "best_total_dis = total_dis\n",
    "t = T0\n",
    "while True:\n",
    "    if t <= Tend:\n",
    "        break\n",
    "    for rt in range(L):\n",
    "        newroute = getnewroute(route)\n",
    "        new_total_dis = cacl_best(newroute)\n",
    "        delt = new_total_dis - total_dis\n",
    "        if delt <= 0:\n",
    "            route = newroute\n",
    "            total_dis = new_total_dis\n",
    "            if best_total_dis > new_total_dis:\n",
    "                best = newroute\n",
    "                best_total_dis = new_total_dis\n",
    "        elif delt > 0:\n",
    "            p = math.exp(-delt / t)\n",
    "            ranp = random.uniform(0, 1)\n",
    "            if ranp < p:\n",
    "                route = newroute\n",
    "                total_dis = new_total_dis\n",
    "    i += 1\n",
    "    t = t * a\n",
    "    num.append(best_total_dis)\n",
    "for i in range(len(num)):\n",
    "    x.append(i)\n",
    "plt.plot(x,num)\n",
    "print(\"當初始溫度 = %d, 衰減係數 = %.2f 時:\" %(T0, a))\n",
    "print(\"最佳路線：\", best)\n",
    "print(\"最佳距離：\", best_total_dis)\n",
    "print(\"次數：\", i)\n",
    "#print(\" \")"
   ]
  },
  {
   "cell_type": "code",
   "execution_count": 23,
   "metadata": {},
   "outputs": [
    {
     "name": "stdout",
     "output_type": "stream",
     "text": [
      "臺中市->苗栗縣->新北市->彰化縣->桃園市->新竹縣->高雄市->臺南市->南投縣->宜蘭縣"
     ]
    }
   ],
   "source": [
    "i=0\n",
    "for v in best:\n",
    "    print(final_city[best[v]], end='')\n",
    "    i = i+1\n",
    "    if(i<10):\n",
    "        print('->', end='')\n",
    "    "
   ]
  },
  {
   "cell_type": "code",
   "execution_count": 18,
   "metadata": {},
   "outputs": [],
   "source": [
    "臺北市 = 0\n",
    "新北市 = 1\n",
    "桃園市 = 2\n",
    "臺中市 = 3\n",
    "臺南市 = 4\n",
    "高雄市 = 5\n",
    "新竹縣 = 6\n",
    "苗栗縣 = 7\n",
    "彰化縣 = 8\n",
    "南投縣 = 9\n",
    "雲林縣 = 10\n",
    "嘉義縣 = 11\n",
    "屏東縣 = 12\n",
    "宜蘭縣 = 13\n",
    "花蓮縣 = 14\n",
    "臺東縣 = 15\n",
    "基隆市 = 16\n",
    "新竹市 = 17\n",
    "嘉義市 = 18\n",
    "city_name = [\"臺北市\",\"新北市\",\"桃園市\",\"臺中市\",\"臺南市\",\"高雄市\",\"新竹縣\",\"苗栗縣\",\"彰化縣\",\"南投縣\",\"雲林縣\",\"嘉義縣\",\"屏東縣\",\"宜蘭縣\",\"花蓮縣\",\"臺東縣\",\"基隆市\",\"新竹市\",\"嘉義市\"]"
   ]
  },
  {
   "cell_type": "code",
   "execution_count": 19,
   "metadata": {},
   "outputs": [],
   "source": [
    "floating_percentage = [12.51,17.55,8.84,11.86,7.07,11.08,3.15,3.22,5.79,2.46,2.42,1.82,2.95,1.84,1.47,0.96,1.96,2.06,1.01]\n",
    "voting_percentage = [11.71,17.25,8.76,11.51,8.23,12.13,2.22,2.41,5.51,2.23,3.05,2.32,3.71,1.99,1.44,0.97,1.65,1.77,1.13]\n",
    "young_percentage = [17.87,20.44,21.66,21.62,20.22,20,19.99,20.77,21.48,20.65,19.48,19.8,20.6,20.99,20.28,19.9,20.36,19.12,20.14]\n",
    "distance = [357,342,326,202,52,0,282,247,177,181,138,110,23,406,328,171,374,281,119]\n",
    "city_num = 19"
   ]
  },
  {
   "cell_type": "code",
   "execution_count": 20,
   "metadata": {},
   "outputs": [],
   "source": [
    "from pulp import *\n",
    "model = pulp.LpProblem(\"cost min\", LpMaximize)\n",
    "x1 = pulp.LpVariable('x1', lowBound=0, upBound=1, cat='binary')\n",
    "x2 = pulp.LpVariable('x2', lowBound=0, upBound=1, cat='binary')\n",
    "x3 = pulp.LpVariable('x3', lowBound=0, upBound=1, cat='binary')\n",
    "x4 = pulp.LpVariable('x4', lowBound=0, upBound=1, cat='binary')\n",
    "x5 = pulp.LpVariable('x5', lowBound=0, upBound=1, cat='binary')\n",
    "x6 = pulp.LpVariable('x6', lowBound=0, upBound=1, cat='binary')\n",
    "x7 = pulp.LpVariable('x7', lowBound=0, upBound=1, cat='binary')\n",
    "x8 = pulp.LpVariable('x8', lowBound=0, upBound=1, cat='binary')\n",
    "x9 = pulp.LpVariable('x9', lowBound=0, upBound=1, cat='binary')\n",
    "x10 = pulp.LpVariable('x10', lowBound=0, upBound=1, cat='binary')\n",
    "x11 = pulp.LpVariable('x11', lowBound=0, upBound=1, cat='binary')\n",
    "x12 = pulp.LpVariable('x12', lowBound=0, upBound=1, cat='binary')\n",
    "x13 = pulp.LpVariable('x13', lowBound=0, upBound=1, cat='binary')\n",
    "x14 = pulp.LpVariable('x14', lowBound=0, upBound=1, cat='binary')\n",
    "x15 = pulp.LpVariable('x15', lowBound=0, upBound=1, cat='binary')\n",
    "x16 = pulp.LpVariable('x16', lowBound=0, upBound=1, cat='binary')\n",
    "x17 = pulp.LpVariable('x17', lowBound=0, upBound=1, cat='binary')\n",
    "x18 = pulp.LpVariable('x18', lowBound=0, upBound=1, cat='binary')\n",
    "x19 = pulp.LpVariable('x19', lowBound=0, upBound=1, cat='binary')\n",
    "x=[x1,x2,x3,x4,x5,x6,x7,x8,x9,x10,x11,x12,x13,x14,x15,x16,x17,x18,x19]\n",
    "fuck = [1]*19    \n",
    "model += pulp.lpSum(x[i] * floating_percentage[i] for i in range(city_num))\n",
    "model += pulp.lpSum(distance[i]*x[i] for i in range(city_num)) <= 3000\n",
    "for i in range(city_num):\n",
    "    voting_percentage[i] = -1*voting_percentage[i]\n",
    "\n",
    "model += pulp.lpSum(voting_percentage[i]*x[i] for i in range(city_num)) <= -50\n",
    "model += pulp.lpSum(young_percentage[i]*x[i] for i in range(city_num)) <= 300\n",
    "model += pulp.lpSum(fuck[i]*x[i] for i in range(city_num)) == 10"
   ]
  },
  {
   "cell_type": "code",
   "execution_count": 21,
   "metadata": {},
   "outputs": [
    {
     "data": {
      "text/plain": [
       "1"
      ]
     },
     "execution_count": 21,
     "metadata": {},
     "output_type": "execute_result"
    }
   ],
   "source": [
    "model.solve()"
   ]
  },
  {
   "cell_type": "code",
   "execution_count": 24,
   "metadata": {},
   "outputs": [
    {
     "name": "stdout",
     "output_type": "stream",
     "text": [
      "新北市\n",
      "宜蘭縣\n",
      "桃園市\n",
      "臺中市\n",
      "臺南市\n",
      "高雄市\n",
      "新竹縣\n",
      "苗栗縣\n",
      "彰化縣\n",
      "南投縣\n"
     ]
    }
   ],
   "source": [
    "i=0\n",
    "for v in model.variables():\n",
    "    #print(v.name, \" = \", v.varValue)\n",
    "    buf = v.name.split('x')\n",
    "    if(v.varValue == 1):\n",
    "        print(city_name[int(buf[1])])\n",
    "    \n",
    "#print(\"obj = \", value(model.objective))"
   ]
  }
 ],
 "metadata": {
  "kernelspec": {
   "display_name": "Python 3",
   "language": "python",
   "name": "python3"
  },
  "language_info": {
   "codemirror_mode": {
    "name": "ipython",
    "version": 3
   },
   "file_extension": ".py",
   "mimetype": "text/x-python",
   "name": "python",
   "nbconvert_exporter": "python",
   "pygments_lexer": "ipython3",
   "version": "3.7.3"
  }
 },
 "nbformat": 4,
 "nbformat_minor": 2
}
